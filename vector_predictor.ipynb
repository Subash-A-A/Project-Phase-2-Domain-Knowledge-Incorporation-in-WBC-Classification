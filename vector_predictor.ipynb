{
  "cells": [
    {
      "cell_type": "code",
      "execution_count": null,
      "metadata": {
        "colab": {
          "base_uri": "https://localhost:8080/"
        },
        "id": "USaQvxbrlNr8",
        "outputId": "931a4228-2a9b-4b0c-93d1-dc08df2f9b6d"
      },
      "outputs": [
        {
          "output_type": "stream",
          "name": "stdout",
          "text": [
            "Mounted at /content/drive\n"
          ]
        }
      ],
      "source": [
        "from google.colab import drive\n",
        "drive.mount('/content/drive')"
      ]
    },
    {
      "cell_type": "code",
      "execution_count": null,
      "metadata": {
        "id": "GoV_Y0Tclk08"
      },
      "outputs": [],
      "source": [
        "!cp /content/drive/MyDrive/DATASET.zip /content/DATASET.zip"
      ]
    },
    {
      "cell_type": "code",
      "execution_count": null,
      "metadata": {
        "id": "Jd1WqIVQlw56"
      },
      "outputs": [],
      "source": [
        "!unzip /content/DATASET.zip"
      ]
    },
    {
      "cell_type": "code",
      "execution_count": null,
      "metadata": {
        "id": "ctCSAWF-l__z"
      },
      "outputs": [],
      "source": [
        "import numpy as np\n",
        "import pandas as pd\n",
        "from scipy.spatial import distance as dist\n",
        "import os\n",
        "import cv2\n",
        "import imutils\n",
        "import tensorflow as tf\n",
        "from tensorflow import keras\n",
        "from sklearn.model_selection import train_test_split\n",
        "from sklearn.utils import shuffle\n",
        "from keras.models import load_model\n",
        "from sklearn.metrics import classification_report, accuracy_score, precision_score, recall_score, f1_score, confusion_matrix"
      ]
    },
    {
      "cell_type": "code",
      "execution_count": null,
      "metadata": {
        "id": "t5wAma9ZmAVp"
      },
      "outputs": [],
      "source": [
        "images = []\n",
        "targets = []\n",
        "\n",
        "image_size = (64, 64)\n",
        "\n",
        "# Folder paths for categories\n",
        "training_paths = [\n",
        "    '/content/DATASET/TRAIN/IMAGES/EOSINOPHIL/',\n",
        "    '/content/DATASET/TRAIN/IMAGES/LYMPHOCYTE/',\n",
        "    '/content/DATASET/TRAIN/IMAGES/MONOCYTE/',\n",
        "    '/content/DATASET/TRAIN/IMAGES/NEUTROPHIL/'\n",
        "]\n",
        "\n",
        "testing_paths = [\n",
        "    '/content/DATASET/TEST/IMAGES/EOSINOPHIL/',\n",
        "    '/content/DATASET/TEST/IMAGES/LYMPHOCYTE/',\n",
        "    '/content/DATASET/TEST/IMAGES/MONOCYTE/',\n",
        "    '/content/DATASET/TEST/IMAGES/NEUTROPHIL/'\n",
        "]"
      ]
    },
    {
      "cell_type": "code",
      "execution_count": null,
      "metadata": {
        "id": "UQDmVR_bmJYS"
      },
      "outputs": [],
      "source": [
        "def findedges(image):\n",
        "    gray = cv2.GaussianBlur(image, (1, 1), 0)\n",
        "    edged = cv2.Canny(gray, 100, 400)\n",
        "    edged = cv2.dilate(edged, None, iterations=1)\n",
        "    edged = cv2.erode(edged, None, iterations=1)\n",
        "    return edged\n",
        "\n",
        "def getimageconturs(edged):\n",
        "    contours = cv2.findContours(edged.copy(), cv2.RETR_EXTERNAL, cv2.CHAIN_APPROX_SIMPLE)\n",
        "    contours = imutils.grab_contours(contours)\n",
        "    contours = sorted(contours, key=lambda x: cv2.contourArea(x))\n",
        "    return contours\n",
        "\n",
        "def getboxes(contours,orig):\n",
        "    boxes = []\n",
        "    centers = []\n",
        "    for contour in contours:\n",
        "        box = cv2.minAreaRect(contour)\n",
        "        box = cv2.cv.BoxPoints(box) if imutils.is_cv2() else cv2.boxPoints(box)\n",
        "        box = np.array(box, dtype=\"int\")\n",
        "        (tl, tr, br, bl) = box\n",
        "        if (np.linalg.norm(tl - bl)) > 0 and (np.linalg.norm(tl - tr)) > 0:\n",
        "            boxes.append(box)\n",
        "    return boxes"
      ]
    },
    {
      "cell_type": "code",
      "execution_count": null,
      "metadata": {
        "id": "OmPtXuV1mLNc"
      },
      "outputs": [],
      "source": [
        "code={\"EOSINOPHIL\":0,\"LYMPHOCYTE\":1,\"MONOCYTE\":2,\"NEUTROPHIL\":3}\n",
        "def getcode(n):\n",
        "    if type(n)==str:\n",
        "        for x,y in code.items():\n",
        "            if n==x:\n",
        "                return y\n",
        "    else:\n",
        "        for x,y in code.items():\n",
        "            if n==y:\n",
        "                return x"
      ]
    },
    {
      "cell_type": "code",
      "execution_count": null,
      "metadata": {
        "id": "vErKPsmkmOBQ"
      },
      "outputs": [],
      "source": [
        "def preprocess_load_data(folder_paths):\n",
        "    # Iterate through the folders\n",
        "    for label, folder_path in enumerate(folder_paths):\n",
        "        image_files = os.listdir(folder_path)\n",
        "        for image_file in image_files:\n",
        "            # Load and preprocess the image\n",
        "            image_path = os.path.join(folder_path, image_file)\n",
        "            image = cv2.imread(image_path)\n",
        "            image = cv2.cvtColor(image, cv2.COLOR_BGR2RGB)\n",
        "\n",
        "            # add padding to the image to better detect cell at the edge\n",
        "            image = cv2.copyMakeBorder(image,10,10,10,10,cv2.BORDER_CONSTANT,value=[198, 203, 208])\n",
        "\n",
        "            #thresholding the image to get the target cell\n",
        "            image1 = cv2.inRange(image,(80, 80, 180),(180, 170, 245))\n",
        "\n",
        "            # openning errosion then dilation\n",
        "            kernel = np.ones((3, 3), np.uint8)\n",
        "            kernel1 = np.ones((5, 5), np.uint8)\n",
        "            img_erosion = cv2.erode(image1, kernel, iterations=2)\n",
        "            image1 = cv2.dilate(img_erosion, kernel1, iterations=5)\n",
        "\n",
        "            #detecting the blood cell\n",
        "            edgedImage = findedges(image1)\n",
        "            edgedContours = getimageconturs(edgedImage)\n",
        "            edgedBoxes =  getboxes(edgedContours, image.copy())\n",
        "\n",
        "            if len(edgedBoxes)==0:\n",
        "                continue\n",
        "            # get the large box and get its cordinate\n",
        "            last = edgedBoxes[-1]\n",
        "            max_x = int(max(last[:,0]))\n",
        "            min_x = int( min(last[:,0]))\n",
        "            max_y = int(max(last[:,1]))\n",
        "            min_y = int(min(last[:,1]))\n",
        "\n",
        "            # draw the contour and fill it\n",
        "            mask = np.zeros_like(image)\n",
        "            cv2.drawContours(mask, edgedContours, len(edgedContours)-1, (255,255,255), -1)\n",
        "\n",
        "            # any pixel but the pixels inside the contour is zero\n",
        "            image[mask==0] = 0\n",
        "\n",
        "            # extract th blood cell\n",
        "            image = image[min_y:max_y, min_x:max_x]\n",
        "\n",
        "            if (np.size(image)==0):\n",
        "                continue\n",
        "            # resize th image\n",
        "            image = cv2.resize(image, image_size)\n",
        "            image = image / 255.0  # Normalize pixel values to [0, 1]\n",
        "\n",
        "            # Create a custom target vector based on requirements\n",
        "            # Example: [1, 0, 0, 1] for the first and fourth categories\n",
        "            if label == 0:\n",
        "                target = [1,1,0,0,0,0,1,0,0,0]\n",
        "            elif label == 1:\n",
        "                target = [0,0,0,1,0,0,0,0,0,1]\n",
        "            elif label == 2:\n",
        "                target = [0,0,0,0,1,0,0,1,1,0]\n",
        "            elif label == 3:\n",
        "                target = [1,0,0,0,0,1,0,0,0,0]\n",
        "\n",
        "            images.append(image)\n",
        "            targets.append(target)\n",
        "\n",
        "    return images, targets"
      ]
    },
    {
      "cell_type": "code",
      "execution_count": null,
      "metadata": {
        "colab": {
          "base_uri": "https://localhost:8080/"
        },
        "id": "d_F4zHiUmU5a",
        "outputId": "47eeb6be-f6a6-4601-c875-e86c6cb342dc"
      },
      "outputs": [
        {
          "output_type": "stream",
          "name": "stdout",
          "text": [
            "9720 9720\n"
          ]
        }
      ],
      "source": [
        "images, targets = preprocess_load_data(folder_paths=training_paths)\n",
        "print(len(images), len(targets))"
      ]
    },
    {
      "cell_type": "code",
      "execution_count": null,
      "metadata": {
        "colab": {
          "base_uri": "https://localhost:8080/"
        },
        "id": "GI--TuvsmWGr",
        "outputId": "0a5ce2ad-cdf3-45b0-b81a-05ac9a123770"
      },
      "outputs": [
        {
          "output_type": "stream",
          "name": "stdout",
          "text": [
            "12146 12146\n"
          ]
        }
      ],
      "source": [
        "test_images, test_targets = preprocess_load_data(folder_paths=testing_paths)\n",
        "print(len(images), len(targets))"
      ]
    },
    {
      "cell_type": "code",
      "execution_count": null,
      "metadata": {
        "id": "9hI13PejmY_e"
      },
      "outputs": [],
      "source": [
        "images = np.array(images)\n",
        "targets = np.array(targets)"
      ]
    },
    {
      "cell_type": "code",
      "execution_count": null,
      "metadata": {
        "id": "O41x2qOemZ9G"
      },
      "outputs": [],
      "source": [
        "images,targets=shuffle(images,targets,random_state=10)"
      ]
    },
    {
      "cell_type": "code",
      "execution_count": null,
      "metadata": {
        "id": "lenY0eXkmbBd"
      },
      "outputs": [],
      "source": [
        "train_image,test_image,train_label,test_label=train_test_split(images,targets,test_size=.2)"
      ]
    },
    {
      "cell_type": "code",
      "execution_count": null,
      "metadata": {
        "colab": {
          "base_uri": "https://localhost:8080/"
        },
        "id": "MWgjgH4gmenW",
        "outputId": "0e8b76dc-8dc2-49bc-a03d-da4c8cc8bd20"
      },
      "outputs": [
        {
          "output_type": "stream",
          "name": "stdout",
          "text": [
            "(12146, 64, 64, 3)\n",
            "(12146, 10)\n",
            "(9716, 64, 64, 3)\n",
            "(2430, 64, 64, 3)\n"
          ]
        }
      ],
      "source": [
        "print(images.shape)\n",
        "print(targets.shape)\n",
        "print(train_image.shape)\n",
        "print(test_image.shape)"
      ]
    },
    {
      "cell_type": "code",
      "execution_count": null,
      "metadata": {
        "id": "MFtBe8kume_A"
      },
      "outputs": [],
      "source": [
        "# Function to create the custom deep learning model\n",
        "def create_custom_model(input_shape=(64,64,3), num_output_units=10):\n",
        "    model = keras.models.Sequential()\n",
        "\n",
        "    # Convolutional layers\n",
        "    model.add(keras.layers.Conv2D(64, (3, 3), activation='relu', input_shape=input_shape))\n",
        "    model.add(keras.layers.MaxPooling2D((2, 2)))\n",
        "    model.add(keras.layers.Dropout(.25))\n",
        "\n",
        "    model.add(keras.layers.Conv2D(128, (3, 3), activation='relu'))\n",
        "    model.add(keras.layers.MaxPooling2D((2, 2)))\n",
        "    model.add(keras.layers.Dropout(.25))\n",
        "\n",
        "    model.add(keras.layers.Conv2D(256, (3, 3), activation='relu'))\n",
        "    model.add(keras.layers.MaxPooling2D((2, 2)))\n",
        "    model.add(keras.layers.Dropout(.25))\n",
        "\n",
        "    # Flatten the output\n",
        "    model.add(keras.layers.Flatten())\n",
        "\n",
        "    # Dense layers\n",
        "    model.add(keras.layers.Dense(512, activation='relu'))\n",
        "    model.add(keras.layers.Dropout(.25))\n",
        "\n",
        "    model.add(keras.layers.Dense(1024, activation='relu'))\n",
        "    model.add(keras.layers.Dropout(.25))\n",
        "\n",
        "    model.add(keras.layers.Dense(num_output_units, activation='sigmoid'))\n",
        "\n",
        "    return model"
      ]
    },
    {
      "cell_type": "code",
      "source": [
        "from sklearn.model_selection import KFold\n",
        "\n",
        "k_folds = 10\n",
        "kf = KFold(n_splits=k_folds, shuffle=True, random_state=42)\n",
        "\n",
        "accuracy_scores = []\n",
        "\n",
        "for train_index, val_index in kf.split(images):\n",
        "    # Split the data into training and validation sets\n",
        "    X_train, X_val = images[train_index], images[val_index]\n",
        "    y_train, y_val = targets[train_index], targets[val_index]\n",
        "\n",
        "    # Create and compile your Keras model\n",
        "    model = create_custom_model()\n",
        "    model.compile(optimizer='adam', loss='binary_crossentropy', metrics=['accuracy'])\n",
        "\n",
        "    # Train the model\n",
        "    model.fit(X_train, y_train, epochs=30, batch_size=32, verbose=1)\n",
        "\n",
        "    # Evaluate the model on the validation set\n",
        "    _, accuracy = model.evaluate(X_val, y_val)\n",
        "    accuracy_scores.append(accuracy)\n",
        "\n",
        "print(\"Average Accuracy: {:.2f}%\".format(np.mean(accuracy_scores) * 100))"
      ],
      "metadata": {
        "colab": {
          "base_uri": "https://localhost:8080/",
          "height": 1000
        },
        "id": "YgvW4i7YdExU",
        "outputId": "62054871-821f-44ad-a217-f77beed95b60"
      },
      "execution_count": null,
      "outputs": [
        {
          "output_type": "stream",
          "name": "stdout",
          "text": [
            "Epoch 1/30\n",
            "342/342 [==============================] - 13s 14ms/step - loss: 0.3435 - accuracy: 0.5731\n",
            "Epoch 2/30\n",
            "342/342 [==============================] - 5s 13ms/step - loss: 0.1354 - accuracy: 0.6819\n",
            "Epoch 3/30\n",
            "342/342 [==============================] - 5s 15ms/step - loss: 0.0920 - accuracy: 0.6830\n",
            "Epoch 4/30\n",
            "342/342 [==============================] - 4s 13ms/step - loss: 0.0799 - accuracy: 0.6996\n",
            "Epoch 5/30\n",
            "342/342 [==============================] - 4s 13ms/step - loss: 0.0641 - accuracy: 0.6800\n",
            "Epoch 6/30\n",
            "342/342 [==============================] - 5s 15ms/step - loss: 0.0544 - accuracy: 0.7058\n",
            "Epoch 7/30\n",
            "342/342 [==============================] - 5s 14ms/step - loss: 0.0480 - accuracy: 0.7072\n",
            "Epoch 8/30\n",
            "342/342 [==============================] - 5s 13ms/step - loss: 0.0447 - accuracy: 0.7009\n",
            "Epoch 9/30\n",
            "342/342 [==============================] - 5s 15ms/step - loss: 0.0501 - accuracy: 0.7102\n",
            "Epoch 10/30\n",
            "342/342 [==============================] - 5s 13ms/step - loss: 0.0363 - accuracy: 0.6926\n",
            "Epoch 11/30\n",
            "342/342 [==============================] - 5s 13ms/step - loss: 0.0285 - accuracy: 0.7093\n",
            "Epoch 12/30\n",
            "342/342 [==============================] - 5s 14ms/step - loss: 0.0302 - accuracy: 0.7122\n",
            "Epoch 13/30\n",
            "342/342 [==============================] - 5s 14ms/step - loss: 0.0303 - accuracy: 0.6912\n",
            "Epoch 14/30\n",
            "342/342 [==============================] - 4s 13ms/step - loss: 0.0298 - accuracy: 0.6876\n",
            "Epoch 15/30\n",
            "342/342 [==============================] - 5s 14ms/step - loss: 0.0280 - accuracy: 0.6648\n",
            "Epoch 16/30\n",
            "342/342 [==============================] - 5s 14ms/step - loss: 0.0246 - accuracy: 0.6405\n",
            "Epoch 17/30\n",
            "342/342 [==============================] - 4s 13ms/step - loss: 0.0209 - accuracy: 0.6880\n",
            "Epoch 18/30\n",
            "342/342 [==============================] - 5s 14ms/step - loss: 0.0273 - accuracy: 0.6542\n",
            "Epoch 19/30\n",
            "342/342 [==============================] - 5s 14ms/step - loss: 0.0154 - accuracy: 0.7090\n",
            "Epoch 20/30\n",
            "342/342 [==============================] - 4s 13ms/step - loss: 0.0190 - accuracy: 0.6894\n",
            "Epoch 21/30\n",
            "342/342 [==============================] - 5s 13ms/step - loss: 0.0246 - accuracy: 0.7202\n",
            "Epoch 22/30\n",
            "342/342 [==============================] - 5s 14ms/step - loss: 0.0160 - accuracy: 0.6998\n",
            "Epoch 23/30\n",
            "342/342 [==============================] - 4s 13ms/step - loss: 0.0210 - accuracy: 0.7408\n",
            "Epoch 24/30\n",
            "342/342 [==============================] - 5s 13ms/step - loss: 0.0219 - accuracy: 0.7481\n",
            "Epoch 25/30\n",
            "342/342 [==============================] - 5s 15ms/step - loss: 0.0167 - accuracy: 0.6721\n",
            "Epoch 26/30\n",
            "342/342 [==============================] - 4s 13ms/step - loss: 0.0134 - accuracy: 0.6509\n",
            "Epoch 27/30\n",
            "342/342 [==============================] - 5s 13ms/step - loss: 0.0237 - accuracy: 0.7268\n",
            "Epoch 28/30\n",
            "342/342 [==============================] - 5s 15ms/step - loss: 0.0280 - accuracy: 0.7160\n",
            "Epoch 29/30\n",
            "342/342 [==============================] - 5s 13ms/step - loss: 0.0216 - accuracy: 0.7114\n",
            "Epoch 30/30\n",
            "265/342 [======================>.......] - ETA: 1s - loss: 0.0157 - accuracy: 0.7117"
          ]
        },
        {
          "output_type": "error",
          "ename": "KeyboardInterrupt",
          "evalue": "",
          "traceback": [
            "\u001b[0;31m---------------------------------------------------------------------------\u001b[0m",
            "\u001b[0;31mKeyboardInterrupt\u001b[0m                         Traceback (most recent call last)",
            "\u001b[0;32m<ipython-input-22-f47db9205b73>\u001b[0m in \u001b[0;36m<cell line: 8>\u001b[0;34m()\u001b[0m\n\u001b[1;32m     16\u001b[0m \u001b[0;34m\u001b[0m\u001b[0m\n\u001b[1;32m     17\u001b[0m     \u001b[0;31m# Train the model\u001b[0m\u001b[0;34m\u001b[0m\u001b[0;34m\u001b[0m\u001b[0m\n\u001b[0;32m---> 18\u001b[0;31m     \u001b[0mmodel\u001b[0m\u001b[0;34m.\u001b[0m\u001b[0mfit\u001b[0m\u001b[0;34m(\u001b[0m\u001b[0mX_train\u001b[0m\u001b[0;34m,\u001b[0m \u001b[0my_train\u001b[0m\u001b[0;34m,\u001b[0m \u001b[0mepochs\u001b[0m\u001b[0;34m=\u001b[0m\u001b[0;36m30\u001b[0m\u001b[0;34m,\u001b[0m \u001b[0mbatch_size\u001b[0m\u001b[0;34m=\u001b[0m\u001b[0;36m32\u001b[0m\u001b[0;34m,\u001b[0m \u001b[0mverbose\u001b[0m\u001b[0;34m=\u001b[0m\u001b[0;36m1\u001b[0m\u001b[0;34m)\u001b[0m\u001b[0;34m\u001b[0m\u001b[0;34m\u001b[0m\u001b[0m\n\u001b[0m\u001b[1;32m     19\u001b[0m \u001b[0;34m\u001b[0m\u001b[0m\n\u001b[1;32m     20\u001b[0m     \u001b[0;31m# Evaluate the model on the validation set\u001b[0m\u001b[0;34m\u001b[0m\u001b[0;34m\u001b[0m\u001b[0m\n",
            "\u001b[0;32m/usr/local/lib/python3.10/dist-packages/keras/src/utils/traceback_utils.py\u001b[0m in \u001b[0;36merror_handler\u001b[0;34m(*args, **kwargs)\u001b[0m\n\u001b[1;32m     63\u001b[0m         \u001b[0mfiltered_tb\u001b[0m \u001b[0;34m=\u001b[0m \u001b[0;32mNone\u001b[0m\u001b[0;34m\u001b[0m\u001b[0;34m\u001b[0m\u001b[0m\n\u001b[1;32m     64\u001b[0m         \u001b[0;32mtry\u001b[0m\u001b[0;34m:\u001b[0m\u001b[0;34m\u001b[0m\u001b[0;34m\u001b[0m\u001b[0m\n\u001b[0;32m---> 65\u001b[0;31m             \u001b[0;32mreturn\u001b[0m \u001b[0mfn\u001b[0m\u001b[0;34m(\u001b[0m\u001b[0;34m*\u001b[0m\u001b[0margs\u001b[0m\u001b[0;34m,\u001b[0m \u001b[0;34m**\u001b[0m\u001b[0mkwargs\u001b[0m\u001b[0;34m)\u001b[0m\u001b[0;34m\u001b[0m\u001b[0;34m\u001b[0m\u001b[0m\n\u001b[0m\u001b[1;32m     66\u001b[0m         \u001b[0;32mexcept\u001b[0m \u001b[0mException\u001b[0m \u001b[0;32mas\u001b[0m \u001b[0me\u001b[0m\u001b[0;34m:\u001b[0m\u001b[0;34m\u001b[0m\u001b[0;34m\u001b[0m\u001b[0m\n\u001b[1;32m     67\u001b[0m             \u001b[0mfiltered_tb\u001b[0m \u001b[0;34m=\u001b[0m \u001b[0m_process_traceback_frames\u001b[0m\u001b[0;34m(\u001b[0m\u001b[0me\u001b[0m\u001b[0;34m.\u001b[0m\u001b[0m__traceback__\u001b[0m\u001b[0;34m)\u001b[0m\u001b[0;34m\u001b[0m\u001b[0;34m\u001b[0m\u001b[0m\n",
            "\u001b[0;32m/usr/local/lib/python3.10/dist-packages/keras/src/engine/training.py\u001b[0m in \u001b[0;36mfit\u001b[0;34m(self, x, y, batch_size, epochs, verbose, callbacks, validation_split, validation_data, shuffle, class_weight, sample_weight, initial_epoch, steps_per_epoch, validation_steps, validation_batch_size, validation_freq, max_queue_size, workers, use_multiprocessing)\u001b[0m\n\u001b[1;32m   1805\u001b[0m                         ):\n\u001b[1;32m   1806\u001b[0m                             \u001b[0mcallbacks\u001b[0m\u001b[0;34m.\u001b[0m\u001b[0mon_train_batch_begin\u001b[0m\u001b[0;34m(\u001b[0m\u001b[0mstep\u001b[0m\u001b[0;34m)\u001b[0m\u001b[0;34m\u001b[0m\u001b[0;34m\u001b[0m\u001b[0m\n\u001b[0;32m-> 1807\u001b[0;31m                             \u001b[0mtmp_logs\u001b[0m \u001b[0;34m=\u001b[0m \u001b[0mself\u001b[0m\u001b[0;34m.\u001b[0m\u001b[0mtrain_function\u001b[0m\u001b[0;34m(\u001b[0m\u001b[0miterator\u001b[0m\u001b[0;34m)\u001b[0m\u001b[0;34m\u001b[0m\u001b[0;34m\u001b[0m\u001b[0m\n\u001b[0m\u001b[1;32m   1808\u001b[0m                             \u001b[0;32mif\u001b[0m \u001b[0mdata_handler\u001b[0m\u001b[0;34m.\u001b[0m\u001b[0mshould_sync\u001b[0m\u001b[0;34m:\u001b[0m\u001b[0;34m\u001b[0m\u001b[0;34m\u001b[0m\u001b[0m\n\u001b[1;32m   1809\u001b[0m                                 \u001b[0mcontext\u001b[0m\u001b[0;34m.\u001b[0m\u001b[0masync_wait\u001b[0m\u001b[0;34m(\u001b[0m\u001b[0;34m)\u001b[0m\u001b[0;34m\u001b[0m\u001b[0;34m\u001b[0m\u001b[0m\n",
            "\u001b[0;32m/usr/local/lib/python3.10/dist-packages/tensorflow/python/util/traceback_utils.py\u001b[0m in \u001b[0;36merror_handler\u001b[0;34m(*args, **kwargs)\u001b[0m\n\u001b[1;32m    148\u001b[0m     \u001b[0mfiltered_tb\u001b[0m \u001b[0;34m=\u001b[0m \u001b[0;32mNone\u001b[0m\u001b[0;34m\u001b[0m\u001b[0;34m\u001b[0m\u001b[0m\n\u001b[1;32m    149\u001b[0m     \u001b[0;32mtry\u001b[0m\u001b[0;34m:\u001b[0m\u001b[0;34m\u001b[0m\u001b[0;34m\u001b[0m\u001b[0m\n\u001b[0;32m--> 150\u001b[0;31m       \u001b[0;32mreturn\u001b[0m \u001b[0mfn\u001b[0m\u001b[0;34m(\u001b[0m\u001b[0;34m*\u001b[0m\u001b[0margs\u001b[0m\u001b[0;34m,\u001b[0m \u001b[0;34m**\u001b[0m\u001b[0mkwargs\u001b[0m\u001b[0;34m)\u001b[0m\u001b[0;34m\u001b[0m\u001b[0;34m\u001b[0m\u001b[0m\n\u001b[0m\u001b[1;32m    151\u001b[0m     \u001b[0;32mexcept\u001b[0m \u001b[0mException\u001b[0m \u001b[0;32mas\u001b[0m \u001b[0me\u001b[0m\u001b[0;34m:\u001b[0m\u001b[0;34m\u001b[0m\u001b[0;34m\u001b[0m\u001b[0m\n\u001b[1;32m    152\u001b[0m       \u001b[0mfiltered_tb\u001b[0m \u001b[0;34m=\u001b[0m \u001b[0m_process_traceback_frames\u001b[0m\u001b[0;34m(\u001b[0m\u001b[0me\u001b[0m\u001b[0;34m.\u001b[0m\u001b[0m__traceback__\u001b[0m\u001b[0;34m)\u001b[0m\u001b[0;34m\u001b[0m\u001b[0;34m\u001b[0m\u001b[0m\n",
            "\u001b[0;32m/usr/local/lib/python3.10/dist-packages/tensorflow/python/eager/polymorphic_function/polymorphic_function.py\u001b[0m in \u001b[0;36m__call__\u001b[0;34m(self, *args, **kwds)\u001b[0m\n\u001b[1;32m    830\u001b[0m \u001b[0;34m\u001b[0m\u001b[0m\n\u001b[1;32m    831\u001b[0m       \u001b[0;32mwith\u001b[0m \u001b[0mOptionalXlaContext\u001b[0m\u001b[0;34m(\u001b[0m\u001b[0mself\u001b[0m\u001b[0;34m.\u001b[0m\u001b[0m_jit_compile\u001b[0m\u001b[0;34m)\u001b[0m\u001b[0;34m:\u001b[0m\u001b[0;34m\u001b[0m\u001b[0;34m\u001b[0m\u001b[0m\n\u001b[0;32m--> 832\u001b[0;31m         \u001b[0mresult\u001b[0m \u001b[0;34m=\u001b[0m \u001b[0mself\u001b[0m\u001b[0;34m.\u001b[0m\u001b[0m_call\u001b[0m\u001b[0;34m(\u001b[0m\u001b[0;34m*\u001b[0m\u001b[0margs\u001b[0m\u001b[0;34m,\u001b[0m \u001b[0;34m**\u001b[0m\u001b[0mkwds\u001b[0m\u001b[0;34m)\u001b[0m\u001b[0;34m\u001b[0m\u001b[0;34m\u001b[0m\u001b[0m\n\u001b[0m\u001b[1;32m    833\u001b[0m \u001b[0;34m\u001b[0m\u001b[0m\n\u001b[1;32m    834\u001b[0m       \u001b[0mnew_tracing_count\u001b[0m \u001b[0;34m=\u001b[0m \u001b[0mself\u001b[0m\u001b[0;34m.\u001b[0m\u001b[0mexperimental_get_tracing_count\u001b[0m\u001b[0;34m(\u001b[0m\u001b[0;34m)\u001b[0m\u001b[0;34m\u001b[0m\u001b[0;34m\u001b[0m\u001b[0m\n",
            "\u001b[0;32m/usr/local/lib/python3.10/dist-packages/tensorflow/python/eager/polymorphic_function/polymorphic_function.py\u001b[0m in \u001b[0;36m_call\u001b[0;34m(self, *args, **kwds)\u001b[0m\n\u001b[1;32m    866\u001b[0m       \u001b[0;31m# In this case we have created variables on the first call, so we run the\u001b[0m\u001b[0;34m\u001b[0m\u001b[0;34m\u001b[0m\u001b[0m\n\u001b[1;32m    867\u001b[0m       \u001b[0;31m# defunned version which is guaranteed to never create variables.\u001b[0m\u001b[0;34m\u001b[0m\u001b[0;34m\u001b[0m\u001b[0m\n\u001b[0;32m--> 868\u001b[0;31m       return tracing_compilation.call_function(\n\u001b[0m\u001b[1;32m    869\u001b[0m           \u001b[0margs\u001b[0m\u001b[0;34m,\u001b[0m \u001b[0mkwds\u001b[0m\u001b[0;34m,\u001b[0m \u001b[0mself\u001b[0m\u001b[0;34m.\u001b[0m\u001b[0m_no_variable_creation_config\u001b[0m\u001b[0;34m\u001b[0m\u001b[0;34m\u001b[0m\u001b[0m\n\u001b[1;32m    870\u001b[0m       )\n",
            "\u001b[0;32m/usr/local/lib/python3.10/dist-packages/tensorflow/python/eager/polymorphic_function/tracing_compilation.py\u001b[0m in \u001b[0;36mcall_function\u001b[0;34m(args, kwargs, tracing_options)\u001b[0m\n\u001b[1;32m    137\u001b[0m   \u001b[0mbound_args\u001b[0m \u001b[0;34m=\u001b[0m \u001b[0mfunction\u001b[0m\u001b[0;34m.\u001b[0m\u001b[0mfunction_type\u001b[0m\u001b[0;34m.\u001b[0m\u001b[0mbind\u001b[0m\u001b[0;34m(\u001b[0m\u001b[0;34m*\u001b[0m\u001b[0margs\u001b[0m\u001b[0;34m,\u001b[0m \u001b[0;34m**\u001b[0m\u001b[0mkwargs\u001b[0m\u001b[0;34m)\u001b[0m\u001b[0;34m\u001b[0m\u001b[0;34m\u001b[0m\u001b[0m\n\u001b[1;32m    138\u001b[0m   \u001b[0mflat_inputs\u001b[0m \u001b[0;34m=\u001b[0m \u001b[0mfunction\u001b[0m\u001b[0;34m.\u001b[0m\u001b[0mfunction_type\u001b[0m\u001b[0;34m.\u001b[0m\u001b[0munpack_inputs\u001b[0m\u001b[0;34m(\u001b[0m\u001b[0mbound_args\u001b[0m\u001b[0;34m)\u001b[0m\u001b[0;34m\u001b[0m\u001b[0;34m\u001b[0m\u001b[0m\n\u001b[0;32m--> 139\u001b[0;31m   return function._call_flat(  # pylint: disable=protected-access\n\u001b[0m\u001b[1;32m    140\u001b[0m       \u001b[0mflat_inputs\u001b[0m\u001b[0;34m,\u001b[0m \u001b[0mcaptured_inputs\u001b[0m\u001b[0;34m=\u001b[0m\u001b[0mfunction\u001b[0m\u001b[0;34m.\u001b[0m\u001b[0mcaptured_inputs\u001b[0m\u001b[0;34m\u001b[0m\u001b[0;34m\u001b[0m\u001b[0m\n\u001b[1;32m    141\u001b[0m   )\n",
            "\u001b[0;32m/usr/local/lib/python3.10/dist-packages/tensorflow/python/eager/polymorphic_function/concrete_function.py\u001b[0m in \u001b[0;36m_call_flat\u001b[0;34m(self, tensor_inputs, captured_inputs)\u001b[0m\n\u001b[1;32m   1321\u001b[0m         and executing_eagerly):\n\u001b[1;32m   1322\u001b[0m       \u001b[0;31m# No tape is watching; skip to running the function.\u001b[0m\u001b[0;34m\u001b[0m\u001b[0;34m\u001b[0m\u001b[0m\n\u001b[0;32m-> 1323\u001b[0;31m       \u001b[0;32mreturn\u001b[0m \u001b[0mself\u001b[0m\u001b[0;34m.\u001b[0m\u001b[0m_inference_function\u001b[0m\u001b[0;34m.\u001b[0m\u001b[0mcall_preflattened\u001b[0m\u001b[0;34m(\u001b[0m\u001b[0margs\u001b[0m\u001b[0;34m)\u001b[0m\u001b[0;34m\u001b[0m\u001b[0;34m\u001b[0m\u001b[0m\n\u001b[0m\u001b[1;32m   1324\u001b[0m     forward_backward = self._select_forward_and_backward_functions(\n\u001b[1;32m   1325\u001b[0m         \u001b[0margs\u001b[0m\u001b[0;34m,\u001b[0m\u001b[0;34m\u001b[0m\u001b[0;34m\u001b[0m\u001b[0m\n",
            "\u001b[0;32m/usr/local/lib/python3.10/dist-packages/tensorflow/python/eager/polymorphic_function/atomic_function.py\u001b[0m in \u001b[0;36mcall_preflattened\u001b[0;34m(self, args)\u001b[0m\n\u001b[1;32m    214\u001b[0m   \u001b[0;32mdef\u001b[0m \u001b[0mcall_preflattened\u001b[0m\u001b[0;34m(\u001b[0m\u001b[0mself\u001b[0m\u001b[0;34m,\u001b[0m \u001b[0margs\u001b[0m\u001b[0;34m:\u001b[0m \u001b[0mSequence\u001b[0m\u001b[0;34m[\u001b[0m\u001b[0mcore\u001b[0m\u001b[0;34m.\u001b[0m\u001b[0mTensor\u001b[0m\u001b[0;34m]\u001b[0m\u001b[0;34m)\u001b[0m \u001b[0;34m->\u001b[0m \u001b[0mAny\u001b[0m\u001b[0;34m:\u001b[0m\u001b[0;34m\u001b[0m\u001b[0;34m\u001b[0m\u001b[0m\n\u001b[1;32m    215\u001b[0m     \u001b[0;34m\"\"\"Calls with flattened tensor inputs and returns the structured output.\"\"\"\u001b[0m\u001b[0;34m\u001b[0m\u001b[0;34m\u001b[0m\u001b[0m\n\u001b[0;32m--> 216\u001b[0;31m     \u001b[0mflat_outputs\u001b[0m \u001b[0;34m=\u001b[0m \u001b[0mself\u001b[0m\u001b[0;34m.\u001b[0m\u001b[0mcall_flat\u001b[0m\u001b[0;34m(\u001b[0m\u001b[0;34m*\u001b[0m\u001b[0margs\u001b[0m\u001b[0;34m)\u001b[0m\u001b[0;34m\u001b[0m\u001b[0;34m\u001b[0m\u001b[0m\n\u001b[0m\u001b[1;32m    217\u001b[0m     \u001b[0;32mreturn\u001b[0m \u001b[0mself\u001b[0m\u001b[0;34m.\u001b[0m\u001b[0mfunction_type\u001b[0m\u001b[0;34m.\u001b[0m\u001b[0mpack_output\u001b[0m\u001b[0;34m(\u001b[0m\u001b[0mflat_outputs\u001b[0m\u001b[0;34m)\u001b[0m\u001b[0;34m\u001b[0m\u001b[0;34m\u001b[0m\u001b[0m\n\u001b[1;32m    218\u001b[0m \u001b[0;34m\u001b[0m\u001b[0m\n",
            "\u001b[0;32m/usr/local/lib/python3.10/dist-packages/tensorflow/python/eager/polymorphic_function/atomic_function.py\u001b[0m in \u001b[0;36mcall_flat\u001b[0;34m(self, *args)\u001b[0m\n\u001b[1;32m    249\u001b[0m         \u001b[0;32mwith\u001b[0m \u001b[0mrecord\u001b[0m\u001b[0;34m.\u001b[0m\u001b[0mstop_recording\u001b[0m\u001b[0;34m(\u001b[0m\u001b[0;34m)\u001b[0m\u001b[0;34m:\u001b[0m\u001b[0;34m\u001b[0m\u001b[0;34m\u001b[0m\u001b[0m\n\u001b[1;32m    250\u001b[0m           \u001b[0;32mif\u001b[0m \u001b[0mself\u001b[0m\u001b[0;34m.\u001b[0m\u001b[0m_bound_context\u001b[0m\u001b[0;34m.\u001b[0m\u001b[0mexecuting_eagerly\u001b[0m\u001b[0;34m(\u001b[0m\u001b[0;34m)\u001b[0m\u001b[0;34m:\u001b[0m\u001b[0;34m\u001b[0m\u001b[0;34m\u001b[0m\u001b[0m\n\u001b[0;32m--> 251\u001b[0;31m             outputs = self._bound_context.call_function(\n\u001b[0m\u001b[1;32m    252\u001b[0m                 \u001b[0mself\u001b[0m\u001b[0;34m.\u001b[0m\u001b[0mname\u001b[0m\u001b[0;34m,\u001b[0m\u001b[0;34m\u001b[0m\u001b[0;34m\u001b[0m\u001b[0m\n\u001b[1;32m    253\u001b[0m                 \u001b[0mlist\u001b[0m\u001b[0;34m(\u001b[0m\u001b[0margs\u001b[0m\u001b[0;34m)\u001b[0m\u001b[0;34m,\u001b[0m\u001b[0;34m\u001b[0m\u001b[0;34m\u001b[0m\u001b[0m\n",
            "\u001b[0;32m/usr/local/lib/python3.10/dist-packages/tensorflow/python/eager/context.py\u001b[0m in \u001b[0;36mcall_function\u001b[0;34m(self, name, tensor_inputs, num_outputs)\u001b[0m\n\u001b[1;32m   1484\u001b[0m     \u001b[0mcancellation_context\u001b[0m \u001b[0;34m=\u001b[0m \u001b[0mcancellation\u001b[0m\u001b[0;34m.\u001b[0m\u001b[0mcontext\u001b[0m\u001b[0;34m(\u001b[0m\u001b[0;34m)\u001b[0m\u001b[0;34m\u001b[0m\u001b[0;34m\u001b[0m\u001b[0m\n\u001b[1;32m   1485\u001b[0m     \u001b[0;32mif\u001b[0m \u001b[0mcancellation_context\u001b[0m \u001b[0;32mis\u001b[0m \u001b[0;32mNone\u001b[0m\u001b[0;34m:\u001b[0m\u001b[0;34m\u001b[0m\u001b[0;34m\u001b[0m\u001b[0m\n\u001b[0;32m-> 1486\u001b[0;31m       outputs = execute.execute(\n\u001b[0m\u001b[1;32m   1487\u001b[0m           \u001b[0mname\u001b[0m\u001b[0;34m.\u001b[0m\u001b[0mdecode\u001b[0m\u001b[0;34m(\u001b[0m\u001b[0;34m\"utf-8\"\u001b[0m\u001b[0;34m)\u001b[0m\u001b[0;34m,\u001b[0m\u001b[0;34m\u001b[0m\u001b[0;34m\u001b[0m\u001b[0m\n\u001b[1;32m   1488\u001b[0m           \u001b[0mnum_outputs\u001b[0m\u001b[0;34m=\u001b[0m\u001b[0mnum_outputs\u001b[0m\u001b[0;34m,\u001b[0m\u001b[0;34m\u001b[0m\u001b[0;34m\u001b[0m\u001b[0m\n",
            "\u001b[0;32m/usr/local/lib/python3.10/dist-packages/tensorflow/python/eager/execute.py\u001b[0m in \u001b[0;36mquick_execute\u001b[0;34m(op_name, num_outputs, inputs, attrs, ctx, name)\u001b[0m\n\u001b[1;32m     51\u001b[0m   \u001b[0;32mtry\u001b[0m\u001b[0;34m:\u001b[0m\u001b[0;34m\u001b[0m\u001b[0;34m\u001b[0m\u001b[0m\n\u001b[1;32m     52\u001b[0m     \u001b[0mctx\u001b[0m\u001b[0;34m.\u001b[0m\u001b[0mensure_initialized\u001b[0m\u001b[0;34m(\u001b[0m\u001b[0;34m)\u001b[0m\u001b[0;34m\u001b[0m\u001b[0;34m\u001b[0m\u001b[0m\n\u001b[0;32m---> 53\u001b[0;31m     tensors = pywrap_tfe.TFE_Py_Execute(ctx._handle, device_name, op_name,\n\u001b[0m\u001b[1;32m     54\u001b[0m                                         inputs, attrs, num_outputs)\n\u001b[1;32m     55\u001b[0m   \u001b[0;32mexcept\u001b[0m \u001b[0mcore\u001b[0m\u001b[0;34m.\u001b[0m\u001b[0m_NotOkStatusException\u001b[0m \u001b[0;32mas\u001b[0m \u001b[0me\u001b[0m\u001b[0;34m:\u001b[0m\u001b[0;34m\u001b[0m\u001b[0;34m\u001b[0m\u001b[0m\n",
            "\u001b[0;31mKeyboardInterrupt\u001b[0m: "
          ]
        }
      ]
    },
    {
      "cell_type": "code",
      "execution_count": null,
      "metadata": {
        "colab": {
          "base_uri": "https://localhost:8080/"
        },
        "id": "3J4Ac0dnm752",
        "outputId": "7f792134-7b9c-4d06-efb4-561997965a29"
      },
      "outputs": [
        {
          "output_type": "stream",
          "name": "stdout",
          "text": [
            "(64, 64, 3)\n"
          ]
        }
      ],
      "source": [
        "# Define the number of output units (elements in the output vector)\n",
        "num_output_units = len(targets[0])  # Should match the length of your custom target vectors\n",
        "\n",
        "# Create the custom model\n",
        "input_shape = images[0].shape\n",
        "model = create_custom_model(input_shape, num_output_units)\n",
        "print(input_shape)\n",
        "\n",
        "# Compile the model with mean squared error loss\n",
        "model.compile(optimizer='adam', loss='mse', metrics=['accuracy'])"
      ]
    },
    {
      "cell_type": "code",
      "execution_count": null,
      "metadata": {
        "id": "LI7MkyZXnCEf"
      },
      "outputs": [],
      "source": [
        "# Train the model\n",
        "history = model.fit(\n",
        "    train_image,          # Input images\n",
        "    train_label,         # Custom target vectors\n",
        "    epochs=30,       # Number of training epochs\n",
        "    batch_size=32,   # Batch size\n",
        "    validation_split=0.1\n",
        ")"
      ]
    },
    {
      "cell_type": "code",
      "execution_count": null,
      "metadata": {
        "id": "MOx9JubGnDwd"
      },
      "outputs": [],
      "source": [
        "loss,accuracy=model.evaluate(test_image, test_label)\n",
        "print(\"the accuracy of test image is : \",accuracy)"
      ]
    },
    {
      "cell_type": "code",
      "execution_count": null,
      "metadata": {
        "id": "8eu9jI9nnEvy"
      },
      "outputs": [],
      "source": [
        "model_file = 'vector_predictor_v64.h5'\n",
        "model.save(model_file)"
      ]
    },
    {
      "cell_type": "code",
      "source": [
        "loaded_model = load_model('/content/drive/MyDrive/BCCD_Models/vector_predictor_v64.h5')\n",
        "loss,accuracy=loaded_model.evaluate(test_image, test_label)\n",
        "print(\"the accuracy of test image is : \",accuracy)"
      ],
      "metadata": {
        "colab": {
          "base_uri": "https://localhost:8080/"
        },
        "id": "F_EPCmndliDn",
        "outputId": "d1651d28-40bb-46bc-ee29-28d42a103edd"
      },
      "execution_count": null,
      "outputs": [
        {
          "output_type": "stream",
          "name": "stdout",
          "text": [
            "76/76 [==============================] - 5s 8ms/step - loss: 0.0026 - accuracy: 0.9444\n",
            "the accuracy of test image is :  0.9444444179534912\n"
          ]
        }
      ]
    },
    {
      "cell_type": "code",
      "source": [
        "predicted_vectors = loaded_model.predict(test_image)\n",
        "print(predicted_vectors[0])"
      ],
      "metadata": {
        "colab": {
          "base_uri": "https://localhost:8080/"
        },
        "id": "qmkR0f3lS07N",
        "outputId": "ea813fae-9585-4f98-802f-f579e9d646ab"
      },
      "execution_count": null,
      "outputs": [
        {
          "output_type": "stream",
          "name": "stdout",
          "text": [
            "76/76 [==============================] - 0s 4ms/step\n",
            "[9.9998999e-01 1.0227482e-03 4.1250522e-10 5.5750843e-06 2.4503991e-06\n",
            " 9.9858701e-01 8.9392281e-04 1.0677670e-06 3.2355701e-06 1.5351559e-05]\n"
          ]
        }
      ]
    },
    {
      "cell_type": "code",
      "source": [
        "predicted_vectors = predicted_vectors.tolist()\n",
        "predicted_vectors = [element for sublist in predicted_vectors for element in sublist]\n",
        "actual_vectors = [element for sublist in test_label for element in sublist]\n",
        "actual_vectors = np.array(actual_vectors)\n",
        "predicted_vectors = np.array(predicted_vectors)\n",
        "print(actual_vectors.shape, predicted_vectors.shape)\n",
        "predicted_vectors = np.round(predicted_vectors).astype(int)"
      ],
      "metadata": {
        "colab": {
          "base_uri": "https://localhost:8080/"
        },
        "id": "Lgt1-DgwSVCD",
        "outputId": "653b73c8-7673-41b5-8d1b-06912492bb3b"
      },
      "execution_count": null,
      "outputs": [
        {
          "output_type": "stream",
          "name": "stdout",
          "text": [
            "(24300,) (24300,)\n"
          ]
        }
      ]
    },
    {
      "cell_type": "code",
      "source": [
        "report = classification_report(actual_vectors, predicted_vectors)\n",
        "accuracy = accuracy_score(actual_vectors, predicted_vectors)\n",
        "conf_matrix = confusion_matrix(actual_vectors, predicted_vectors)\n",
        "\n",
        "print(report)\n",
        "print(f\"Accuracy: {accuracy}\")\n",
        "print(\"\\nConfusion Matrix:\")\n",
        "print(conf_matrix)"
      ],
      "metadata": {
        "colab": {
          "base_uri": "https://localhost:8080/"
        },
        "id": "uUmAR8LhUNkL",
        "outputId": "b5b8497d-a4e5-46aa-9bed-7daccbc2f8c4"
      },
      "execution_count": null,
      "outputs": [
        {
          "output_type": "stream",
          "name": "stdout",
          "text": [
            "              precision    recall  f1-score   support\n",
            "\n",
            "           0       1.00      1.00      1.00     18297\n",
            "           1       0.99      0.99      0.99      6003\n",
            "\n",
            "    accuracy                           1.00     24300\n",
            "   macro avg       1.00      1.00      1.00     24300\n",
            "weighted avg       1.00      1.00      1.00     24300\n",
            "\n",
            "Accuracy: 0.9969135802469136\n",
            "\n",
            "Confusion Matrix:\n",
            "[[18259    38]\n",
            " [   37  5966]]\n"
          ]
        }
      ]
    },
    {
      "cell_type": "code",
      "source": [],
      "metadata": {
        "id": "0FONw-K0U4sF"
      },
      "execution_count": null,
      "outputs": []
    }
  ],
  "metadata": {
    "accelerator": "GPU",
    "colab": {
      "provenance": []
    },
    "kernelspec": {
      "display_name": "Python 3",
      "name": "python3"
    },
    "language_info": {
      "name": "python"
    }
  },
  "nbformat": 4,
  "nbformat_minor": 0
}